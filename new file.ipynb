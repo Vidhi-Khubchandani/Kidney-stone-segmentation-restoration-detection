import json
import csv

def extract_swagger_info(swagger_file_path):
    with open(swagger_file_path, 'r') as file:
        swagger_data = json.load(file)
        
    paths_info = []
    
    # Extract information for each path
    for path, path_data in swagger_data['paths'].items():
        for method, method_data in path_data.items():
            path_info = {
                'path': path,
                'method': method.upper(),
                'description': method_data.get('description', ''),
                'parameters': '',
                'responses': ''
            }
            
            # Extract parameters
            parameters = method_data.get('parameters', [])
            param_descriptions = []
            for parameter in parameters:
                param_description = f"{parameter['name']} ({parameter.get('in', '')}): {parameter.get('description', '')}"
                param_descriptions.append(param_description)
            path_info['parameters'] = ', '.join(param_descriptions)
            
            # Extract responses
            responses = method_data.get('responses', {})
            response_descriptions = []
            for response_code, response_data in responses.items():
                response_description = f"{response_code}: {response_data.get('description', '')}"
                response_descriptions.append(response_description)
            path_info['responses'] = ', '.join(response_descriptions)
            
            paths_info.append(path_info)
    
    return paths_info

def write_swagger_info_to_csv(swagger_info, csv_file_path):
    fieldnames = ['path', 'method', 'description', 'parameters', 'responses']
    with open(csv_file_path, 'w', newline='', encoding='utf-8') as file:
        writer = csv.DictWriter(file, fieldnames=fieldnames)
        writer.writeheader()
        writer.writerows(swagger_info)

# Example usage:
swagger_file_path = '/path/to/your/swagger_file.json'  # Replace with the actual file path
csv_file_path = '/path/to/your/output_file.csv'  # Replace with the desired output CSV file path

swagger_info = extract_swagger_info(swagger_file_path)
write_swagger_info_to_csv(swagger_info, csv_file_path)
